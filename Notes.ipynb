{
 "cells": [
  {
   "cell_type": "markdown",
   "metadata": {},
   "source": [
    "This notebook will include the important pieces you learned each day, or from each do-now or homework. For example, what is a variable? How do you know what a list is? How do you get information out of a dictionary? Why do you use list() with csv.DictReader? Please also pull from any other sources of notes you have, and include links to any stackoverflow results you found useful. Give this page the title notes (i.e., # Notes) and explain how you've organized it."
   ]
  },
  {
   "cell_type": "markdown",
   "metadata": {},
   "source": [
    "## 1. Strings and integers"
   ]
  },
  {
   "cell_type": "code",
   "execution_count": 2,
   "metadata": {
    "collapsed": false
   },
   "outputs": [
    {
     "name": "stdout",
     "output_type": "stream",
     "text": [
      "Hello world\n",
      "10 + 10\n"
     ]
    }
   ],
   "source": [
    "# Things inside quotes are called strings. Example:\n",
    "print 'Hello world'\n",
    "\n",
    "# Quoted integers are treated as strings\n",
    "print \"10 + 10\""
   ]
  },
  {
   "cell_type": "code",
   "execution_count": 3,
   "metadata": {
    "collapsed": true
   },
   "outputs": [],
   "source": [
    "# Whenever you write a string, you need to use quotes. Example:\"Hello world.“\n",
    "# You can't mix single and double quotes. Example:\n",
    "# Print 'Hello world\""
   ]
  },
  {
   "cell_type": "code",
   "execution_count": 4,
   "metadata": {
    "collapsed": false
   },
   "outputs": [
    {
     "name": "stdout",
     "output_type": "stream",
     "text": [
      "10\n",
      "20\n"
     ]
    }
   ],
   "source": [
    "# Numbers are called integers. Examples:\n",
    "print 10\n",
    "print 10 + 10"
   ]
  },
  {
   "cell_type": "code",
   "execution_count": 5,
   "metadata": {
    "collapsed": false
   },
   "outputs": [
    {
     "name": "stdout",
     "output_type": "stream",
     "text": [
      "10 + 10\n"
     ]
    }
   ],
   "source": [
    "# Quoted integers are treated as strings\n",
    "print \"10 + 10\""
   ]
  },
  {
   "cell_type": "code",
   "execution_count": 6,
   "metadata": {
    "collapsed": false
   },
   "outputs": [
    {
     "name": "stdout",
     "output_type": "stream",
     "text": [
      "10 Hello\n",
      "20\n",
      "10Hello\n"
     ]
    }
   ],
   "source": [
    "# Can't mix an integer and a string together. Example:\n",
    "# print 10 + \"Hello\"\n",
    "\n",
    "# The reason this is failing is because (Python 3) input returns a string. To convert it to an integer, use int(some_string).\n",
    "print 10, \"Hello\"\n",
    "print 10 + int(\"10\")\n",
    "print str(10) + \"Hello\""
   ]
  },
  {
   "cell_type": "code",
   "execution_count": 8,
   "metadata": {
    "collapsed": false
   },
   "outputs": [
    {
     "name": "stdout",
     "output_type": "stream",
     "text": [
      "Hello,Siutan\n",
      "Hello,Siutan Wong\n"
     ]
    }
   ],
   "source": [
    "# Examples of writing strings and integers in Python\n",
    "name = \"Siutan\"\n",
    "print \"Hello,\" + name\n",
    "\n",
    "lastname = \"Wong\"\n",
    "print \"Hello,\" + name, lastname"
   ]
  },
  {
   "cell_type": "markdown",
   "metadata": {},
   "source": [
    "### raw_input\n",
    "The computer will pop up with questions and print results based on your answers."
   ]
  },
  {
   "cell_type": "code",
   "execution_count": 14,
   "metadata": {
    "collapsed": false
   },
   "outputs": [
    {
     "name": "stdout",
     "output_type": "stream",
     "text": [
      "Enter your year of birth:1989\n",
      "Your were born in 1989\n",
      "You are 26 years old.\n"
     ]
    }
   ],
   "source": [
    "year_of_birth = raw_input(\"Enter your year of birth:\")\n",
    "\n",
    "print 'Your were born in', year_of_birth\n",
    "\n",
    "# Make sure you int the Year_of_birth\n",
    "age = 2015 - int(year_of_birth)\n",
    "\n",
    "# Since year_of_birth is a data type, not the actually string, so you don't have to quote it.\n",
    "print \"You are\", age, \"years old.\""
   ]
  },
  {
   "cell_type": "markdown",
   "metadata": {},
   "source": [
    "### Float and decimal"
   ]
  },
  {
   "cell_type": "code",
   "execution_count": 21,
   "metadata": {
    "collapsed": false
   },
   "outputs": [
    {
     "name": "stdout",
     "output_type": "stream",
     "text": [
      "4.14772727273\n",
      "4.15\n"
     ]
    }
   ],
   "source": [
    "earth_days = 365.0\n",
    "mercury_days = 88.0\n",
    "ratio = float(earth_days / mercury_days)\n",
    "print ratio\n",
    "# round(x,y), x is the integer, y is the number of decimals you want to round. Example:\n",
    "print round(ratio, 2)"
   ]
  },
  {
   "cell_type": "code",
   "execution_count": 19,
   "metadata": {
    "collapsed": false
   },
   "outputs": [
    {
     "name": "stdout",
     "output_type": "stream",
     "text": [
      "104\n"
     ]
    }
   ],
   "source": [
    "# int() the age so your age is integer\n",
    "# You need to define the result before you print it\n",
    "mercury_years = age * int(ratio)\n",
    "print mercury_years"
   ]
  },
  {
   "cell_type": "markdown",
   "metadata": {},
   "source": [
    "## 2. Use \"if\" as conditions"
   ]
  },
  {
   "cell_type": "code",
   "execution_count": 30,
   "metadata": {
    "collapsed": false
   },
   "outputs": [
    {
     "name": "stdout",
     "output_type": "stream",
     "text": [
      "Enter the year you were born:1999\n",
      "You are younger than me!\n"
     ]
    }
   ],
   "source": [
    "year_of_birth = raw_input(\"Enter the year you were born:\")\n",
    "if int(year_of_birth) == 1989:\n",
    "    print \"Hooray\"\n",
    "if int(year_of_birth) < 1989:\n",
    "    print \"You are older than me!\"\n",
    "if int(year_of_birth) > 1989:\n",
    "    print \"You are younger than me!\""
   ]
  },
  {
   "cell_type": "markdown",
   "metadata": {},
   "source": [
    "## 3. List and Dictionary"
   ]
  },
  {
   "cell_type": "code",
   "execution_count": 35,
   "metadata": {
    "collapsed": false
   },
   "outputs": [
    {
     "name": "stdout",
     "output_type": "stream",
     "text": [
      "{'city': 'Riversides', 'age': 25, 'name': 'Siutan'}\n",
      "Riversides\n",
      "Four years ago I was 21\n"
     ]
    }
   ],
   "source": [
    "# Dictionary\n",
    "me = {'name': 'Siutan','city': 'Riversides', 'age': 25}\n",
    "print me\n",
    "print me['city']\n",
    "print \"Four years ago I was\", me['age'] - 4"
   ]
  },
  {
   "cell_type": "code",
   "execution_count": 33,
   "metadata": {
    "collapsed": false
   },
   "outputs": [
    {
     "name": "stdout",
     "output_type": "stream",
     "text": [
      "Four years ago I was 21\n",
      "I own a cat and a dog\n",
      "{'city': 'Riversides', 'age': 25, 'name': 'Siutan', 'pets': 'a cat and a dog'}\n"
     ]
    }
   ],
   "source": [
    "me['pets'] = 'a cat and a dog'\n",
    "print me"
   ]
  },
  {
   "cell_type": "code",
   "execution_count": 34,
   "metadata": {
    "collapsed": false
   },
   "outputs": [
    {
     "name": "stdout",
     "output_type": "stream",
     "text": [
      "Obama became president in 2009\n"
     ]
    }
   ],
   "source": [
    "presidents = {\n",
    "\t'Obama': 2009,\n",
    "\t'Bush': 2001,\n",
    "\t'Clinton': 1993,\n",
    "\t'Bush': 1989,\n",
    "\t'Reagan': 1981,\n",
    "\t'Carter': 1977\n",
    "}\n",
    "\n",
    "print \"Obama became president in\", presidents['Obama']"
   ]
  },
  {
   "cell_type": "code",
   "execution_count": 36,
   "metadata": {
    "collapsed": false
   },
   "outputs": [
    {
     "name": "stdout",
     "output_type": "stream",
     "text": [
      "['Reagan', 'Bush', 'Clinton', 'Carter', 'Obama']\n"
     ]
    }
   ],
   "source": [
    "# Get a list of keys from a Python dictionary?\n",
    "print presidents.keys()"
   ]
  },
  {
   "cell_type": "markdown",
   "metadata": {},
   "source": [
    "### Length and summary"
   ]
  },
  {
   "cell_type": "code",
   "execution_count": 46,
   "metadata": {
    "collapsed": false
   },
   "outputs": [
    {
     "name": "stdout",
     "output_type": "stream",
     "text": [
      "6\n",
      "20\n",
      "0\n",
      "there are 5 elements in years.\n",
      "the last number in the list is 5\n",
      "If I add together all the numbers I get 55\n",
      "The average number of the list is 9\n"
     ]
    }
   ],
   "source": [
    "years = [4,20,6,0,20,5]\n",
    "print len(years)\n",
    "print max(years)\n",
    "print min(years)\n",
    "print \"there are\", len(\"years\"), \"elements in years.\"\n",
    "print \"the last number in the list is\", years[len(years) - 1]\n",
    "print \"If I add together all the numbers I get\", sum(years)\n",
    "print \"The average number of the list is\", sum(years) / len(years)"
   ]
  },
  {
   "cell_type": "markdown",
   "metadata": {},
   "source": [
    "### sorted() and .sort()"
   ]
  },
  {
   "cell_type": "code",
   "execution_count": 43,
   "metadata": {
    "collapsed": false
   },
   "outputs": [
    {
     "data": {
      "text/plain": [
       "[1, 1, 2, 2, 2, 2, 2, 3, 3, 4, 4, 4, 5, 5, 5, 6, 6, 6, 8, 8, 9]"
      ]
     },
     "execution_count": 43,
     "metadata": {},
     "output_type": "execute_result"
    }
   ],
   "source": [
    "# Useful web tutorial: https://wiki.python.org/moin/HowTo/Sorting\n",
    "# There are two ways to sort a list:\n",
    "# sorted() is a one-time sort funtion and won't change the original order of the numbers in that list.\n",
    "a = [1,2,3,2,2,5,4,2,4,5,6,3,2,5,6,8,9,8,6,4,1]\n",
    "sorted(a)"
   ]
  },
  {
   "cell_type": "code",
   "execution_count": 44,
   "metadata": {
    "collapsed": false
   },
   "outputs": [
    {
     "name": "stdout",
     "output_type": "stream",
     "text": [
      "[1, 2, 3, 2, 2, 5, 4, 2, 4, 5, 6, 3, 2, 5, 6, 8, 9, 8, 6, 4, 1]\n"
     ]
    }
   ],
   "source": [
    "# When you print a once again:\n",
    "print a"
   ]
  },
  {
   "cell_type": "code",
   "execution_count": 51,
   "metadata": {
    "collapsed": false
   },
   "outputs": [
    {
     "name": "stdout",
     "output_type": "stream",
     "text": [
      "[4, 1, 2, 3, 2, 2, 5, 4, 2, 4, 5, 6, 3, 2, 5, 6, 8, 9, 8, 6, 4, 1]\n",
      "None\n"
     ]
    }
   ],
   "source": [
    "# .sort is a method, which will change the order of the numbers perminatly.\n",
    "b = [4,1,2,3,2,2,5,4,2,4,5,6,3,2,5,6,8,9,8,6,4,1]\n",
    "print b\n",
    "print b.sort()"
   ]
  },
  {
   "cell_type": "markdown",
   "metadata": {},
   "source": [
    "### Use list to find items in a dictionary"
   ]
  },
  {
   "cell_type": "code",
   "execution_count": 52,
   "metadata": {
    "collapsed": false
   },
   "outputs": [
    {
     "name": "stdout",
     "output_type": "stream",
     "text": [
      "red\n",
      "blue\n",
      "yellow\n",
      "green\n",
      "purple\n",
      "['red', 'blue', 'yellow', 'green', 'purple']\n"
     ]
    }
   ],
   "source": [
    "colors = ['red', 'blue', 'yellow', 'green']\n",
    "# The order number starts from 0.\n",
    "print colors[0]\n",
    "print colors[1]\n",
    "print colors[2]\n",
    "print colors[3]\n",
    "colors.append('purple')\n",
    "print colors[4]\n",
    "print list(colors)"
   ]
  },
  {
   "cell_type": "code",
   "execution_count": 53,
   "metadata": {
    "collapsed": true
   },
   "outputs": [],
   "source": [
    "### .append"
   ]
  },
  {
   "cell_type": "code",
   "execution_count": 78,
   "metadata": {
    "collapsed": false
   },
   "outputs": [
    {
     "name": "stdout",
     "output_type": "stream",
     "text": [
      "[1, 1, -1, 1, 1, 1, 1, 2, 3, 4, 5, 6, 333]\n"
     ]
    }
   ],
   "source": [
    "a = [1,1,1,1,1,1,2,3,4,5,6]\n",
    "a.insert(2, -1)\n",
    "# .append will add new items at the end of the list.\n",
    "a.append(333)\n",
    "print a"
   ]
  },
  {
   "cell_type": "code",
   "execution_count": 77,
   "metadata": {
    "collapsed": false
   },
   "outputs": [
    {
     "data": {
      "text/plain": [
       "6"
      ]
     },
     "execution_count": 77,
     "metadata": {},
     "output_type": "execute_result"
    }
   ],
   "source": [
    "a.count(1)"
   ]
  },
  {
   "cell_type": "markdown",
   "metadata": {},
   "source": [
    "### median, mean"
   ]
  },
  {
   "cell_type": "code",
   "execution_count": 73,
   "metadata": {
    "collapsed": false
   },
   "outputs": [
    {
     "name": "stdout",
     "output_type": "stream",
     "text": [
      "[1, 1, 2, 2, 2, 2, 3, 4, 4, 4, 4, 5, 5, 5, 6, 6, 7, 7, 9, 9]\n"
     ]
    }
   ],
   "source": [
    "a = [1,2,2,1,2,4,4,5,7,5,6,9,7,4,3,2,4,9,5,6]\n",
    "b = sorted(a)\n",
    "print b"
   ]
  },
  {
   "cell_type": "code",
   "execution_count": 80,
   "metadata": {
    "collapsed": false
   },
   "outputs": [
    {
     "data": {
      "text/plain": [
       "4"
      ]
     },
     "execution_count": 80,
     "metadata": {},
     "output_type": "execute_result"
    }
   ],
   "source": [
    "# Mean is the average of a list of number\n",
    "sum(b) / len(b)"
   ]
  },
  {
   "cell_type": "code",
   "execution_count": 86,
   "metadata": {
    "collapsed": false
   },
   "outputs": [
    {
     "data": {
      "text/plain": [
       "4"
      ]
     },
     "execution_count": 86,
     "metadata": {},
     "output_type": "execute_result"
    }
   ],
   "source": [
    "# Median is the middle number of a sorted list\n",
    "b[10]"
   ]
  },
  {
   "cell_type": "markdown",
   "metadata": {},
   "source": [
    "## 4. For loop"
   ]
  },
  {
   "cell_type": "code",
   "execution_count": 89,
   "metadata": {
    "collapsed": false
   },
   "outputs": [
    {
     "name": "stdout",
     "output_type": "stream",
     "text": [
      "Looking at 4\n",
      "Looking at 20\n",
      "Looking at 6\n",
      "Looking at 0\n",
      "Looking at 20\n",
      "Looking at 5\n",
      "5 students are above the median\n"
     ]
    }
   ],
   "source": [
    "# How to count items using for loop? Example\n",
    "above_the_median = 0\n",
    "for year in years:\n",
    "\tprint \"Looking at\", year\n",
    "\tif year > 3:\n",
    "\t\tabove_the_median = above_the_median + 1\n",
    "print above_the_median, \"students are above the median\""
   ]
  },
  {
   "cell_type": "markdown",
   "metadata": {},
   "source": [
    "## 5. Open CSV files in Python"
   ]
  },
  {
   "cell_type": "code",
   "execution_count": 100,
   "metadata": {
    "collapsed": true
   },
   "outputs": [],
   "source": [
    "import csv\n",
    "file = open('dogs.csv')\n",
    "# DictReader\n",
    "dogs = csv.DictReader(file)\n",
    "dog_list = list(dogs)"
   ]
  },
  {
   "cell_type": "markdown",
   "metadata": {},
   "source": [
    "### Use for loop for build a list or dictionary"
   ]
  },
  {
   "cell_type": "code",
   "execution_count": 101,
   "metadata": {
    "collapsed": true
   },
   "outputs": [],
   "source": [
    "# Example of building a list.\n",
    "zipcodes = []\n",
    "for zipcode in zipcodes:\n",
    "    if zipcode not in dog['zipcode']:\n",
    "        zipcodes.append(dog['zipcode'])\n",
    "# print zipcodes"
   ]
  },
  {
   "cell_type": "code",
   "execution_count": 113,
   "metadata": {
    "collapsed": false
   },
   "outputs": [],
   "source": [
    "# Example of building a dictionary.\n",
    "colors = {}\n",
    "for color in colors:\n",
    "    colors[color] = 0\n",
    "    for dog in dogs:\n",
    "        if dog['dominate_color'] == color:\n",
    "            colors[color] += 1\n",
    "    print colors   "
   ]
  },
  {
   "cell_type": "markdown",
   "metadata": {},
   "source": [
    "### Calculate Percentage"
   ]
  },
  {
   "cell_type": "code",
   "execution_count": 150,
   "metadata": {
    "collapsed": false
   },
   "outputs": [
    {
     "name": "stdout",
     "output_type": "stream",
     "text": [
      "49\n",
      "20.0\n"
     ]
    }
   ],
   "source": [
    "murders = {'A': 23, 'K': 10, 'R': 7, 'Y': 9}\n",
    "total = sum(murders.values())\n",
    "print total\n",
    "\n",
    "percentage = float(murders['K'] * 100 / total)\n",
    "print percentage"
   ]
  },
  {
   "cell_type": "code",
   "execution_count": 151,
   "metadata": {
    "collapsed": false
   },
   "outputs": [
    {
     "name": "stdout",
     "output_type": "stream",
     "text": [
      "A 23\n",
      "Y 9\n",
      "K 10\n",
      "R 7\n"
     ]
    }
   ],
   "source": [
    "murders = {'A': 23, 'K': 10, 'R': 7, 'Y': 9}\n",
    "for county in murders.keys():\n",
    "    print county, murders[county]"
   ]
  },
  {
   "cell_type": "code",
   "execution_count": 152,
   "metadata": {
    "collapsed": true
   },
   "outputs": [],
   "source": []
  },
  {
   "cell_type": "markdown",
   "metadata": {},
   "source": [
    "## 6. List Comprehension"
   ]
  },
  {
   "cell_type": "code",
   "execution_count": 94,
   "metadata": {
    "collapsed": false
   },
   "outputs": [
    {
     "name": "stdout",
     "output_type": "stream",
     "text": [
      "[2, 4, 6, 8]\n"
     ]
    }
   ],
   "source": [
    "numbers = [1, 2, 3, 4]\n",
    "\n",
    "doubles = []\n",
    "for number in numbers:\n",
    "    doubles.append(number * 2)\n",
    "#print doubles\n",
    "\n",
    "results = [number*2 for number in numbers]\n",
    "print results"
   ]
  },
  {
   "cell_type": "code",
   "execution_count": 95,
   "metadata": {
    "collapsed": false
   },
   "outputs": [
    {
     "name": "stdout",
     "output_type": "stream",
     "text": [
      "['Harry', 'Trouble', 'Toyota', 'Brenda']\n"
     ]
    }
   ],
   "source": [
    "dogs = [\n",
    "   { 'dog_name': 'Harry' },\n",
    "   { 'dog_name': 'Trouble' },\n",
    "   { 'dog_name': 'Toyota' },\n",
    "   { 'dog_name': 'Brenda' }\n",
    "]\n",
    "\n",
    "results = [dog['dog_name'] for dog in dogs]\n",
    "print results"
   ]
  },
  {
   "cell_type": "markdown",
   "metadata": {},
   "source": [
    "## 7. Python libraries\n",
    "### In Python, you can use different library to do data analysis and visualization."
   ]
  },
  {
   "cell_type": "code",
   "execution_count": 123,
   "metadata": {
    "collapsed": false
   },
   "outputs": [
    {
     "data": {
      "text/plain": [
       "4.7857142857142856"
      ]
     },
     "execution_count": 123,
     "metadata": {},
     "output_type": "execute_result"
    }
   ],
   "source": [
    "import numpy as np\n",
    "numbers = [1,2,3,4,5,6,7,8,9,0,2,4,5,5,6,7,9,2,1,3,5,6,7,4,6,6,7,4]\n",
    "np.average(numbers)"
   ]
  },
  {
   "cell_type": "code",
   "execution_count": 124,
   "metadata": {
    "collapsed": false
   },
   "outputs": [
    {
     "data": {
      "text/plain": [
       "4.7857142857142856"
      ]
     },
     "execution_count": 124,
     "metadata": {},
     "output_type": "execute_result"
    }
   ],
   "source": [
    "# Another way to calculate average.\n",
    "np.mean(numbers)"
   ]
  },
  {
   "cell_type": "code",
   "execution_count": 125,
   "metadata": {
    "collapsed": false
   },
   "outputs": [
    {
     "data": {
      "text/plain": [
       "5.0"
      ]
     },
     "execution_count": 125,
     "metadata": {},
     "output_type": "execute_result"
    }
   ],
   "source": [
    "np.median (numbers)"
   ]
  },
  {
   "cell_type": "code",
   "execution_count": 126,
   "metadata": {
    "collapsed": false
   },
   "outputs": [
    {
     "data": {
      "text/plain": [
       "134"
      ]
     },
     "execution_count": 126,
     "metadata": {},
     "output_type": "execute_result"
    }
   ],
   "source": [
    "np.sum(numbers)"
   ]
  },
  {
   "cell_type": "code",
   "execution_count": 127,
   "metadata": {
    "collapsed": false
   },
   "outputs": [
    {
     "data": {
      "text/plain": [
       "0"
      ]
     },
     "execution_count": 127,
     "metadata": {},
     "output_type": "execute_result"
    }
   ],
   "source": [
    "np.min(numbers)"
   ]
  },
  {
   "cell_type": "code",
   "execution_count": 128,
   "metadata": {
    "collapsed": false
   },
   "outputs": [
    {
     "data": {
      "text/plain": [
       "9"
      ]
     },
     "execution_count": 128,
     "metadata": {},
     "output_type": "execute_result"
    }
   ],
   "source": [
    "np.max(numbers)"
   ]
  },
  {
   "cell_type": "code",
   "execution_count": 129,
   "metadata": {
    "collapsed": false
   },
   "outputs": [
    {
     "data": {
      "text/plain": [
       "2.3657850230970277"
      ]
     },
     "execution_count": 129,
     "metadata": {},
     "output_type": "execute_result"
    }
   ],
   "source": [
    "np.std(numbers)"
   ]
  },
  {
   "cell_type": "markdown",
   "metadata": {},
   "source": [
    "### Create a chart in Python using matplotlib"
   ]
  },
  {
   "cell_type": "code",
   "execution_count": 130,
   "metadata": {
    "collapsed": false
   },
   "outputs": [
    {
     "data": {
      "text/plain": [
       "(array([ 1.,  2.,  3.,  2.,  4.,  4.,  5.,  4.,  1.,  2.]),\n",
       " array([ 0. ,  0.9,  1.8,  2.7,  3.6,  4.5,  5.4,  6.3,  7.2,  8.1,  9. ]),\n",
       " <a list of 10 Patch objects>)"
      ]
     },
     "execution_count": 130,
     "metadata": {},
     "output_type": "execute_result"
    },
    {
     "data": {
      "image/png": "[encoded data removed]",
      "text/plain": [
       "<matplotlib.figure.Figure at 0x1036a7e50>"
      ]
     },
     "metadata": {},
     "output_type": "display_data"
    }
   ],
   "source": [
    "%matplotlib inline\n",
    "import matplotlib.pyplot as plt\n",
    "plt.hist(numbers)"
   ]
  },
  {
   "cell_type": "markdown",
   "metadata": {},
   "source": [
    "## 8. Use iPython notebook to do data analysis"
   ]
  },
  {
   "cell_type": "code",
   "execution_count": 133,
   "metadata": {
    "collapsed": true
   },
   "outputs": [],
   "source": [
    "import csv\n",
    "file = open(\"2.5_month.csv\")\n",
    "quakes = list(csv.DictReader(file))"
   ]
  },
  {
   "cell_type": "code",
   "execution_count": 134,
   "metadata": {
    "collapsed": false
   },
   "outputs": [
    {
     "data": {
      "text/plain": [
       "[{'depth': '116.4',\n",
       "  'dmin': '',\n",
       "  'gap': '',\n",
       "  'id': 'ak11622703',\n",
       "  'latitude': '56.4325',\n",
       "  'longitude': '-156.2994',\n",
       "  'mag': '3.2',\n",
       "  'magType': 'ml',\n",
       "  'net': 'ak',\n",
       "  'nst': '',\n",
       "  'place': '79km NNW of Chirikof Island, Alaska',\n",
       "  'rms': '0.65',\n",
       "  'time': '2015-06-10T15:33:47.000Z',\n",
       "  'type': 'earthquake',\n",
       "  'updated': '2015-06-10T15:52:30.305Z'},\n",
       " {'depth': '15.306',\n",
       "  'dmin': '0.09421',\n",
       "  'gap': '200',\n",
       "  'id': 'ci37396800',\n",
       "  'latitude': '32.3328333',\n",
       "  'longitude': '-115.3493333',\n",
       "  'mag': '2.55',\n",
       "  'magType': 'ml',\n",
       "  'net': 'ci',\n",
       "  'nst': '12',\n",
       "  'place': '15km W of Delta, B.C., MX',\n",
       "  'rms': '0.27',\n",
       "  'time': '2015-06-10T15:26:05.220Z',\n",
       "  'type': 'earthquake',\n",
       "  'updated': '2015-06-10T15:30:36.628Z'}]"
      ]
     },
     "execution_count": 134,
     "metadata": {},
     "output_type": "execute_result"
    }
   ],
   "source": [
    "quakes[:2]\n",
    "# To see the first 2 earthquakes in the list."
   ]
  },
  {
   "cell_type": "code",
   "execution_count": 135,
   "metadata": {
    "collapsed": true
   },
   "outputs": [],
   "source": [
    "quake = quakes[0]"
   ]
  },
  {
   "cell_type": "code",
   "execution_count": 136,
   "metadata": {
    "collapsed": false
   },
   "outputs": [
    {
     "data": {
      "text/plain": [
       "'116.4'"
      ]
     },
     "execution_count": 136,
     "metadata": {},
     "output_type": "execute_result"
    }
   ],
   "source": [
    "quake['depth']"
   ]
  },
  {
   "cell_type": "code",
   "execution_count": 137,
   "metadata": {
    "collapsed": false
   },
   "outputs": [
    {
     "data": {
      "text/plain": [
       "dict"
      ]
     },
     "execution_count": 137,
     "metadata": {},
     "output_type": "execute_result"
    }
   ],
   "source": [
    "type(quakes[0])"
   ]
  },
  {
   "cell_type": "code",
   "execution_count": 138,
   "metadata": {
    "collapsed": true
   },
   "outputs": [],
   "source": [
    "depths = [float(quake['depth']) for quake in quakes]"
   ]
  },
  {
   "cell_type": "code",
   "execution_count": 1,
   "metadata": {
    "collapsed": false
   },
   "outputs": [],
   "source": [
    "# print depths"
   ]
  },
  {
   "cell_type": "code",
   "execution_count": 140,
   "metadata": {
    "collapsed": true
   },
   "outputs": [],
   "source": [
    "magnitudes = [float(quake['mag']) for quake in quakes]"
   ]
  },
  {
   "cell_type": "code",
   "execution_count": 2,
   "metadata": {
    "collapsed": false
   },
   "outputs": [],
   "source": [
    "#print magnitudes"
   ]
  },
  {
   "cell_type": "code",
   "execution_count": 142,
   "metadata": {
    "collapsed": false
   },
   "outputs": [
    {
     "data": {
      "text/plain": [
       "26.0"
      ]
     },
     "execution_count": 142,
     "metadata": {},
     "output_type": "execute_result"
    }
   ],
   "source": [
    "import numpy as np\n",
    "np.median(depths)"
   ]
  },
  {
   "cell_type": "code",
   "execution_count": 143,
   "metadata": {
    "collapsed": false
   },
   "outputs": [
    {
     "data": {
      "text/plain": [
       "3.7999999999999998"
      ]
     },
     "execution_count": 143,
     "metadata": {},
     "output_type": "execute_result"
    }
   ],
   "source": [
    "np.median(magnitudes)"
   ]
  },
  {
   "cell_type": "code",
   "execution_count": 144,
   "metadata": {
    "collapsed": false
   },
   "outputs": [
    {
     "data": {
      "text/plain": [
       "(array([ 1064.,   154.,    66.,    17.,     3.,     7.,     9.,     9.,\n",
       "           12.,     5.]),\n",
       " array([   0.   ,   68.139,  136.278,  204.417,  272.556,  340.695,\n",
       "         408.834,  476.973,  545.112,  613.251,  681.39 ]),\n",
       " <a list of 10 Patch objects>)"
      ]
     },
     "execution_count": 144,
     "metadata": {},
     "output_type": "execute_result"
    },
    {
     "data": {
      "image/png": "[encoded data removed]",
      "text/plain": [
       "<matplotlib.figure.Figure at 0x105d456d0>"
      ]
     },
     "metadata": {},
     "output_type": "display_data"
    }
   ],
   "source": [
    "import matplotlib.pyplot as plt\n",
    "plt.hist(depths)"
   ]
  },
  {
   "cell_type": "code",
   "execution_count": 145,
   "metadata": {
    "collapsed": false
   },
   "outputs": [
    {
     "data": {
      "text/plain": [
       "<matplotlib.collections.PathCollection at 0x10631ecd0>"
      ]
     },
     "execution_count": 145,
     "metadata": {},
     "output_type": "execute_result"
    },
    {
     "data": {
      "image/png": "[encoded data removed]",
      "text/plain": [
       "<matplotlib.figure.Figure at 0x105ee9fd0>"
      ]
     },
     "metadata": {},
     "output_type": "display_data"
    }
   ],
   "source": [
    "plt.scatter(depths, magnitudes)"
   ]
  },
  {
   "cell_type": "markdown",
   "metadata": {},
   "source": []
  },
  {
   "cell_type": "markdown",
   "metadata": {
    "collapsed": false
   },
   "source": [
    "## 8. Github"
   ]
  },
  {
   "cell_type": "markdown",
   "metadata": {
    "collapsed": false
   },
   "source": [
    "### Link github and your local files:\n",
    "\n",
    "in your terminal:\n",
    "\n",
    "git init\n",
    "\n",
    "git add (your file name)\n",
    "\n",
    "git commit -m \"Uploding your files\"\n",
    "\n",
    "git remote add origin https://github.com/Siutan/Lede_notes.git\n",
    "\n",
    "then\n",
    "### Upload files to Github\n",
    "git push -u origin master\n",
    "\n",
    "### Download a file from Github to local\n",
    "git pull"
   ]
  },
  {
   "cell_type": "markdown",
   "metadata": {
    "collapsed": true
   },
   "source": [
    "## 9. Open Refine"
   ]
  },
  {
   "cell_type": "markdown",
   "metadata": {
    "collapsed": true
   },
   "source": [
    "### Open refine is a tool to clean and organize your dirty data\n",
    "\n",
    "#### Text filter and text facet\n",
    "tip: Whenever you use data analysis in refine, you got to compare the items in original file and your filtered file.\n",
    "\n",
    "#### Timeline facet\n",
    "but first, clean your dirty data.\n",
    "\n",
    "#### Cluster and edit\n",
    "find similiar items and combine them together\n",
    "\n",
    "When you want to murge a bunch of items together, use **\"edit colum -> Transform\"** and change the value into something you want. eg: \"Kindergarden\"\n",
    "\n",
    "**Levenshtein distance**\n",
    "how many words it takes to change one word to another word. eg: cat to cats (1)\n",
    "\n",
    "**Write Jython**\n",
    "treat it as python, must use return to show results."
   ]
  },
  {
   "cell_type": "markdown",
   "metadata": {
    "collapsed": true
   },
   "source": [
    "## 10. Different programming languages"
   ]
  },
  {
   "cell_type": "markdown",
   "metadata": {},
   "source": [
    "### Python\n",
    "multipurpose language\n",
    "### Ruby\n",
    "good for building website\n",
    "\n",
    "ruby on rails\n",
    "### PHP\n",
    "wordpress use php, easy to learn, most popular (?)\n",
    "\n",
    "Concept of easy languages like python can also apply to other languages like C++.\n",
    "\n",
    "High level languages: easy for human to understand. eg: python, c++\n",
    "\n",
    "Low level languages: computer think 0 and 1. eg: assembler\n",
    "\n",
    "### Java\n",
    "\n",
    "**All these are back end languages**\n",
    "\n",
    "### JavaScript\n",
    "Inside of your web browser\n",
    "node.js\n",
    "JavaScript tells a website what to do (interactive stuff and graphics)\n",
    "d3.js\n",
    "\n",
    "### HTML & CSS\n",
    "HTML tells you the head and body of a website\n",
    "CSS tells the color of each part of a website\n",
    "**All these are front end languages**\n",
    "\n",
    "### GREL (Google Refine Expression Language)"
   ]
  },
  {
   "cell_type": "markdown",
   "metadata": {
    "collapsed": true
   },
   "source": [
    "## 11. Command Line"
   ]
  },
  {
   "cell_type": "markdown",
   "metadata": {},
   "source": [
    "conda install csvkit\n",
    "csvstack filename1 filename 2 .. > combinedfile\n",
    "\n",
    "csvstack TransactionsData-* to include all the files with TransactionsData_"
   ]
  },
  {
   "cell_type": "markdown",
   "metadata": {
    "collapsed": true
   },
   "source": [
    "## 12. Python Function"
   ]
  },
  {
   "cell_type": "markdown",
   "metadata": {},
   "source": [
    "python - write your own functions\n",
    "why use def?\n",
    "- don’t repeat yourself.\n",
    "- organize your data.\n",
    "\n",
    "function word itself is not callable\n",
    "\n",
    "when you save the variable the same name of your function name, python will forget your original function name"
   ]
  },
  {
   "cell_type": "markdown",
   "metadata": {},
   "source": [
    "### D.R.Y (Don't repeat yourself)"
   ]
  },
  {
   "cell_type": "markdown",
   "metadata": {},
   "source": [
    "What happened in a function stay in a function"
   ]
  },
  {
   "cell_type": "markdown",
   "metadata": {},
   "source": [
    "### Dates-Times-etc"
   ]
  },
  {
   "cell_type": "code",
   "execution_count": null,
   "metadata": {
    "collapsed": true
   },
   "outputs": [],
   "source": []
  }
 ],
 "metadata": {
  "kernelspec": {
   "display_name": "Python 2",
   "language": "python",
   "name": "python2"
  },
  "language_info": {
   "codemirror_mode": {
    "name": "ipython",
    "version": 2
   },
   "file_extension": ".py",
   "mimetype": "text/x-python",
   "name": "python",
   "nbconvert_exporter": "python",
   "pygments_lexer": "ipython2",
   "version": "2.7.10"
  }
 },
 "nbformat": 4,
 "nbformat_minor": 0
}
