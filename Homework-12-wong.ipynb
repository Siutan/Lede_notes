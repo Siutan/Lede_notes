{
 "cells": [
  {
   "cell_type": "markdown",
   "metadata": {},
   "source": [
    "HOMEWORK 12\n",
    "\n",
    "The streaming music service Spotify has a nice, API that doesn't even require a key to access! Documentation is at https://developer.spotify.com/web-api/endpoint-reference/\n",
    "\n",
    "Reminder: the requests module is much nicer than urrllib2 + json\n",
    "\n",
    "1) The right-hand column says what kind of authentication you need for the request. What's \"OAuth\"? Does it sound appealing?\n",
    "\n",
    "2) If I had an album with the ID 2hzFRVGr7Y2Lc78ymABtyv, what URL would I visit in order to get information about it?\n",
    "\n",
    "3) Using the API, find Taylor Swift's artist ID.\n",
    "\n",
    "4) Write a function called get_artist_id that takes a search term and returns the artist ID of the first result.\n",
    "\n",
    "5) Make an alphabetized list of Taylor Swift's album titles. \n",
    "\n",
    "6) How many of Taylor Swift's related artists have \"teen pop\" as one of their genres?  You can just print their names if you'd like.\n",
    "\n",
    "7) The hip-hop group N.W.A. was made out of five members: DJ Yella, Dr. Dre, Eazy-E, Ice Cube and MC Ren. Create a list of their names, then use a list comprehension and your function from 4 to make a list of their artist IDs (treat N.W.A. as a member).\n",
    "\n",
    "8) Using the multiple artists API endpoint, print out each member of N.W.A and their follower count.\n",
    "\n",
    "9) Using the top tracks API endpoint and the popularity measure, how do the artists compare within each other and to N.W.A itself?\n",
    "\n",
    "10) Create a function that takes an artist ID and returns the median popularity of their top tracks (use NumPy!). Use that function to find out which member of N.W.A. had the highest average performance."
   ]
  },
  {
   "cell_type": "code",
   "execution_count": 78,
   "metadata": {
    "collapsed": true
   },
   "outputs": [],
   "source": [
    "import urllib2\n",
    "import requests"
   ]
  },
  {
   "cell_type": "markdown",
   "metadata": {},
   "source": [
    "###1) The right-hand column says what kind of authentication you need for the request. What's \"OAuth\"? Does it sound appealing?"
   ]
  },
  {
   "cell_type": "markdown",
   "metadata": {},
   "source": [
    "OAuth is an open standard for authorization.\n",
    "\n",
    "Nope!"
   ]
  },
  {
   "cell_type": "markdown",
   "metadata": {},
   "source": [
    "###2) If I had an album with the ID 2hzFRVGr7Y2Lc78ymABtyv, what URL would I visit in order to get information about it?"
   ]
  },
  {
   "cell_type": "code",
   "execution_count": 79,
   "metadata": {
    "collapsed": false
   },
   "outputs": [],
   "source": [
    "url = \"https://api.spotify.com/v1/albums/{2hzFRVGr7Y2Lc78ymABtyv}\""
   ]
  },
  {
   "cell_type": "markdown",
   "metadata": {},
   "source": [
    "###3) Using the API, find Taylor Swift's artist ID."
   ]
  },
  {
   "cell_type": "code",
   "execution_count": 80,
   "metadata": {
    "collapsed": true
   },
   "outputs": [],
   "source": [
    "url = \"https://api.spotify.com/v1/search?q=taylor+swift&type=artist\""
   ]
  },
  {
   "cell_type": "code",
   "execution_count": 81,
   "metadata": {
    "collapsed": false
   },
   "outputs": [
    {
     "data": {
      "text/plain": [
       "u'06HL4z0CvFAxyc27GXpf02'"
      ]
     },
     "execution_count": 81,
     "metadata": {},
     "output_type": "execute_result"
    }
   ],
   "source": [
    "response = requests.get(url)\n",
    "data = response.json()\n",
    "data['artists']['items'][0]['id']"
   ]
  },
  {
   "cell_type": "markdown",
   "metadata": {},
   "source": [
    "###4) Write a function called get_artist_id that takes a search term and returns the artist ID of the first result."
   ]
  },
  {
   "cell_type": "code",
   "execution_count": 82,
   "metadata": {
    "collapsed": false
   },
   "outputs": [],
   "source": [
    "def get_artist_id(artist):\n",
    "    oururl = \"https://api.spotify.com/v1/search?q=\"+str(artist)+'&type=artist'\n",
    "    response = requests.get(oururl)\n",
    "    data = response.json()\n",
    "    return data['artists']['items'][0]['id']"
   ]
  },
  {
   "cell_type": "markdown",
   "metadata": {},
   "source": [
    "###5) Make an alphabetized list of Taylor Swift's album titles."
   ]
  },
  {
   "cell_type": "code",
   "execution_count": 83,
   "metadata": {
    "collapsed": true
   },
   "outputs": [],
   "source": [
    "url = \"https://api.spotify.com/v1/artists/06HL4z0CvFAxyc27GXpf02/albums\""
   ]
  },
  {
   "cell_type": "code",
   "execution_count": 84,
   "metadata": {
    "collapsed": false
   },
   "outputs": [
    {
     "name": "stdout",
     "output_type": "stream",
     "text": [
      "[u'After The Storm', u'Country Hits 2014', u'Impreska Vol. 12', u'Lo M\\xe1s 40', u'Los N\\xba1 de 40 Principales (2013)', u'Multishow Ao Vivo Paula Fernandes - Um Ser Amor (Deluxe Version / Multishow Ao Vivo / 2013)', u'One Chance (Original Motion Picture Soundtrack)', u'Shake It Off (Piano Version)', u'Simon Mayo\\u2019s Drivetime', u'Strange Clouds', u'Today Was a Fairytale (From \"Valentine\\'s Day\") [Piano Version]', u'Two Lanes Of Freedom', u'Two Lanes Of Freedom (Accelerated Deluxe)', u'VTM Kzoom 2013-1']\n"
     ]
    }
   ],
   "source": [
    "response = requests.get(url)\n",
    "data = response.json()\n",
    "\n",
    "album_list = []\n",
    "for album in data['items']:\n",
    "    if album['name'] not in album_list:\n",
    "        album_list.append(album['name'])\n",
    "print sorted(album_list)"
   ]
  },
  {
   "cell_type": "markdown",
   "metadata": {},
   "source": [
    "###6) How many of Taylor Swift's related artists have \"teen pop\" as one of their genres? You can just print their names if you'd like."
   ]
  },
  {
   "cell_type": "code",
   "execution_count": 85,
   "metadata": {
    "collapsed": true
   },
   "outputs": [],
   "source": [
    "url = \"https://api.spotify.com/v1/artists/06HL4z0CvFAxyc27GXpf02/related-artists\""
   ]
  },
  {
   "cell_type": "code",
   "execution_count": 86,
   "metadata": {
    "collapsed": false
   },
   "outputs": [
    {
     "data": {
      "text/plain": [
       "4"
      ]
     },
     "execution_count": 86,
     "metadata": {},
     "output_type": "execute_result"
    }
   ],
   "source": [
    "response = requests.get(url)\n",
    "data = response.json()\n",
    "len([artist['genres'] for artist in data['artists'] if artist['genres'] == ['teen pop']])"
   ]
  },
  {
   "cell_type": "code",
   "execution_count": 87,
   "metadata": {
    "collapsed": false
   },
   "outputs": [
    {
     "name": "stdout",
     "output_type": "stream",
     "text": [
      "Miley Cyrus\n",
      "Demi Lovato\n",
      "Justin Bieber\n",
      "Jonas Brothers\n"
     ]
    }
   ],
   "source": [
    "for artist in data['artists']:\n",
    "    if artist['genres'] == ['teen pop']:\n",
    "        print artist['name']"
   ]
  },
  {
   "cell_type": "markdown",
   "metadata": {},
   "source": [
    "###7) The hip-hop group N.W.A. was made out of five members: DJ Yella, Dr. Dre, Eazy-E, Ice Cube and MC Ren. Create a list of their names, then use a list comprehension and your function from 4 to make a list of their artist IDs (treat N.W.A. as a member).\n"
   ]
  },
  {
   "cell_type": "code",
   "execution_count": 88,
   "metadata": {
    "collapsed": false
   },
   "outputs": [],
   "source": [
    "members = ['DJ Yella', 'Dr Dre', 'Easy-E', 'Ice Cube', 'MC Ren', 'N.W.A']"
   ]
  },
  {
   "cell_type": "code",
   "execution_count": 89,
   "metadata": {
    "collapsed": false,
    "scrolled": true
   },
   "outputs": [
    {
     "name": "stdout",
     "output_type": "stream",
     "text": [
      "[u'1Wfh3Tz3xOB4JjqTk2zT5K', u'6DPYiyq5kWVQS4RGwxzPC7', u'7B4hKK0S9QYnaoqa9OuwgX', u'3Mcii5XWf6E0lrY3Uky4cA', u'4fbyGOEjViyE97W58eGEgU', u'4EnEZVjo3w1cwcQYePccay']\n"
     ]
    }
   ],
   "source": [
    "id_list = [get_artist_id(member)for member in members]\n",
    "print id_list"
   ]
  },
  {
   "cell_type": "markdown",
   "metadata": {
    "collapsed": false
   },
   "source": [
    "###8) Using the multiple artists API endpoint, print out each member of N.W.A and their follower count."
   ]
  },
  {
   "cell_type": "code",
   "execution_count": 200,
   "metadata": {
    "collapsed": false
   },
   "outputs": [],
   "source": [
    "url = \"https://api.spotify.com/v1/artists/?ids=1Wfh3Tz3xOB4JjqTk2zT5K,6DPYiyq5kWVQS4RGwxzPC7,7B4hKK0S9QYnaoqa9OuwgX,3Mcii5XWf6E0lrY3Uky4cA,4fbyGOEjViyE97W58eGEgU,4EnEZVjo3w1cwcQYePccay\""
   ]
  },
  {
   "cell_type": "code",
   "execution_count": 201,
   "metadata": {
    "collapsed": false
   },
   "outputs": [
    {
     "name": "stdout",
     "output_type": "stream",
     "text": [
      "DJ Yella has 175 followers.\n",
      "Dr. Dre has 678002 followers.\n",
      "Eazy-E has 113788 followers.\n",
      "Ice Cube has 309967 followers.\n",
      "MC Ren has 5793 followers.\n",
      "N.W.A. has 139101 followers.\n"
     ]
    }
   ],
   "source": [
    "response = requests.get(url)\n",
    "data = response.json()\n",
    "for member in data['artists']:\n",
    "    print member['name'], \"has\", member['followers']['total'], \"followers.\""
   ]
  },
  {
   "cell_type": "markdown",
   "metadata": {
    "collapsed": true
   },
   "source": [
    "###9) Using the top tracks API endpoint and the popularity measure, how do the artists compare within each other and to N.W.A itself?"
   ]
  },
  {
   "cell_type": "code",
   "execution_count": 202,
   "metadata": {
    "collapsed": false
   },
   "outputs": [
    {
     "name": "stdout",
     "output_type": "stream",
     "text": [
      "For DJ Yella, the popularity of the top track is 17\n",
      "For Dr. Dre, the popularity of the top track is 75\n",
      "For Eazy-E, the popularity of the top track is 63\n",
      "For Ice Cube, the popularity of the top track is 71\n",
      "For MC Ren, the popularity of the top track is 40\n",
      "For N.W.A., the popularity of the top track is 69\n"
     ]
    }
   ],
   "source": [
    "for artist_id in id_list:\n",
    "    url = \"https://api.spotify.com/v1/artists/\"+str(artist_id)+\"/top-tracks?country=SE\"\n",
    "    response = requests.get(url)\n",
    "    data = response.json()\n",
    "    artist_name = data['tracks'][0]['artists'][0]['name']\n",
    "    artist_popularity = data['tracks'][0]['popularity']\n",
    "    print \"For\", artist_name+\", the popularity of the top track is\", artist_popularity"
   ]
  },
  {
   "cell_type": "markdown",
   "metadata": {},
   "source": [
    "###10) Create a function that takes an artist ID and returns the median popularity of their top tracks (use NumPy!). Use that function to find out which member of N.W.A. had the highest average performance."
   ]
  },
  {
   "cell_type": "code",
   "execution_count": 203,
   "metadata": {
    "collapsed": false
   },
   "outputs": [],
   "source": [
    "import numpy"
   ]
  },
  {
   "cell_type": "code",
   "execution_count": 211,
   "metadata": {
    "collapsed": false
   },
   "outputs": [],
   "source": [
    "def median(artist):\n",
    "    url = \"https://api.spotify.com/v1/artists/\"+get_artist_id(artist)+\"/top-tracks?country=SE\"\n",
    "    response = requests.get(url)\n",
    "    data = response.json()\n",
    "    for info in data['tracks']:\n",
    "        popularity = [info['popularity']]\n",
    "        return numpy.median(popularity)"
   ]
  },
  {
   "cell_type": "code",
   "execution_count": 215,
   "metadata": {
    "collapsed": false
   },
   "outputs": [
    {
     "name": "stdout",
     "output_type": "stream",
     "text": [
      "DJ Yella 17.0\n",
      "Dr Dre 75.0\n",
      "Easy-E 63.0\n",
      "Ice Cube 71.0\n",
      "MC Ren 40.0\n",
      "N.W.A 69.0\n"
     ]
    }
   ],
   "source": [
    "for member in members:\n",
    "    print member, median(member)"
   ]
  },
  {
   "cell_type": "code",
   "execution_count": 216,
   "metadata": {
    "collapsed": false
   },
   "outputs": [
    {
     "name": "stdout",
     "output_type": "stream",
     "text": [
      "Dr. Dre has the highest average performance among the N.W.A members\n"
     ]
    }
   ],
   "source": [
    "print \"Dr. Dre has the highest average performance among the N.W.A members\""
   ]
  },
  {
   "cell_type": "code",
   "execution_count": null,
   "metadata": {
    "collapsed": false
   },
   "outputs": [],
   "source": []
  },
  {
   "cell_type": "markdown",
   "metadata": {},
   "source": []
  }
 ],
 "metadata": {
  "kernelspec": {
   "display_name": "Python 2",
   "language": "python",
   "name": "python2"
  },
  "language_info": {
   "codemirror_mode": {
    "name": "ipython",
    "version": 2
   },
   "file_extension": ".py",
   "mimetype": "text/x-python",
   "name": "python",
   "nbconvert_exporter": "python",
   "pygments_lexer": "ipython2",
   "version": "2.7.10"
  }
 },
 "nbformat": 4,
 "nbformat_minor": 0
}
