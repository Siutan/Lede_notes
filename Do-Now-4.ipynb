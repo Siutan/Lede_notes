{
 "cells": [
  {
   "cell_type": "markdown",
   "metadata": {},
   "source": [
    "1) Print the 3rd element of a list called dogs."
   ]
  },
  {
   "cell_type": "code",
   "execution_count": 1,
   "metadata": {
    "collapsed": false
   },
   "outputs": [
    {
     "data": {
      "text/plain": [
       "{'birth': 'Nov-00',\n",
       " 'borough': 'Manhattan',\n",
       " 'breed': 'Afghan Hound',\n",
       " 'dog_name': 'Abby',\n",
       " 'dominant_color': 'BLACK',\n",
       " 'gender': 'F',\n",
       " 'guard_or_trained': 'No',\n",
       " 'secondary_color': 'TAN',\n",
       " 'spayed_or_neutered': 'Yes',\n",
       " 'third_color': 'n/a',\n",
       " 'zip_code': '10034'}"
      ]
     },
     "execution_count": 1,
     "metadata": {},
     "output_type": "execute_result"
    }
   ],
   "source": [
    "import csv\n",
    "file = open('dogs.csv')\n",
    "dogs = list(csv.DictReader(file))\n",
    "dogs[2]"
   ]
  },
  {
   "cell_type": "markdown",
   "metadata": {},
   "source": [
    "2) What is the output of the following code?"
   ]
  },
  {
   "cell_type": "code",
   "execution_count": 2,
   "metadata": {
    "collapsed": false
   },
   "outputs": [
    {
     "name": "stdout",
     "output_type": "stream",
     "text": [
      "1 green\n",
      "2 green\n",
      "3 green\n",
      "4 green\n",
      "1 blue\n",
      "2 blue\n",
      "3 blue\n",
      "4 blue\n"
     ]
    }
   ],
   "source": [
    "numbers = [ 1, 2, 3, 4]\n",
    "colors = [ \"green\", \"blue\" ]\n",
    "for color in colors: \n",
    "    for number in numbers: \n",
    "        print number, color"
   ]
  },
  {
   "cell_type": "markdown",
   "metadata": {},
   "source": [
    "3) What command would you use to get the first 100 lines of data.csv, and save it into a new file named sample.csv?\n",
    "\n",
    "**answer**\n",
    "head -n 100 data.csv > thousand.csv"
   ]
  },
  {
   "cell_type": "markdown",
   "metadata": {},
   "source": [
    "\n",
    "This is a view of the file lists.csv, used for the questions below\n",
    "\n",
    "|make|year|color|\n",
    "|----|:--:|----:|\n",
    "|Chevrolet|2011|black| \n",
    "|Honda|2010|red|\n",
    "|Honda|2013|black| \n",
    "|Toyota|2001|gold|\n",
    "\n",
    "4) What is missing from the lines below? (It isn't 100% necessary, but we use it for convenience)\n",
    "\n",
    "file = open(\"lists.csv\")\n",
    "\n",
    "cars = csv.DictReader(file)\n",
    "\n",
    "**answer**\n",
    "\n",
    "Import csv\n",
    "\n",
    "file = open('lists.csv')\n",
    "\n",
    "cars = list(csv.DictReader(file))"
   ]
  },
  {
   "cell_type": "markdown",
   "metadata": {},
   "source": [
    "5) Write a for loop to add up all of the years. Save it to a variable called total."
   ]
  },
  {
   "cell_type": "markdown",
   "metadata": {},
   "source": [
    "**answer**\n",
    "\n",
    "total = 0\n",
    "\n",
    "for car in cars:\n",
    "\n",
    "    if car['year'] not in cars:\n",
    "    \n",
    "        total += 1\n",
    "        \n",
    "print total\n",
    "        "
   ]
  },
  {
   "cell_type": "markdown",
   "metadata": {},
   "source": [
    "6) I'd like a new list called favorites that includes all cars that are black or produced after 2010. Write a for loop to create this list."
   ]
  },
  {
   "cell_type": "markdown",
   "metadata": {},
   "source": [
    "**answer**\n",
    "\n",
    "favourites = []\n",
    "\n",
    "for car in cars:\n",
    "\n",
    "    if car['color'] == \"black\", or int(car['year']) > 2010:\n",
    "    \n",
    "        favourites.append(car)\n",
    "        \n",
    "favourites"
   ]
  },
  {
   "cell_type": "code",
   "execution_count": null,
   "metadata": {
    "collapsed": true
   },
   "outputs": [],
   "source": []
  }
 ],
 "metadata": {
  "kernelspec": {
   "display_name": "Python 2",
   "language": "python",
   "name": "python2"
  },
  "language_info": {
   "codemirror_mode": {
    "name": "ipython",
    "version": 2
   },
   "file_extension": ".py",
   "mimetype": "text/x-python",
   "name": "python",
   "nbconvert_exporter": "python",
   "pygments_lexer": "ipython2",
   "version": "2.7.10"
  }
 },
 "nbformat": 4,
 "nbformat_minor": 0
}
