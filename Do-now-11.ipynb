{
 "cells": [
  {
   "cell_type": "markdown",
   "metadata": {},
   "source": [
    "Reviewing: APIs, you are a real programmer"
   ]
  },
  {
   "cell_type": "markdown",
   "metadata": {},
   "source": [
    "1) What's the difference between an API and a normal web page?\n",
    "\n",
    "API: application programming interface\n",
    "\n",
    "When we want to get data from the outside world, APIs make it easier.\n",
    "\n",
    "Basically an API gives you data that's formatted so that it's easy for computers to read (as opposed to a webpage, which is data that's formatted so that it's easy for humans to read in a browser).\n",
    "\n",
    "Scraping is what we do for websites without an API; scraping is generally harder and takes longer."
   ]
  },
  {
   "cell_type": "code",
   "execution_count": null,
   "metadata": {
    "collapsed": true
   },
   "outputs": [],
   "source": [
    "2) If I have a variable called url, what are the two steps to opening it using urllib2 and reading out the contents?\n",
    "\n",
    "response = urllib2.urlopen(url)\n",
    "contents = response.read()"
   ]
  },
  {
   "cell_type": "markdown",
   "metadata": {},
   "source": [
    "3) When an API sends over dictionaries or lists or integers or anything, it's all just text. What's the format this text uses to represent the data inside?\n",
    "\n",
    "import json\n",
    "data - json.loads(contents)"
   ]
  },
  {
   "cell_type": "markdown",
   "metadata": {},
   "source": [
    "4) Here is some strange and unknown code! Using your knowledge of Python and the power of Google, try to figure out what each line might accomplish."
   ]
  },
  {
   "cell_type": "code",
   "execution_count": 4,
   "metadata": {
    "collapsed": false
   },
   "outputs": [
    {
     "ename": "ImportError",
     "evalue": "No module named cv2",
     "output_type": "error",
     "traceback": [
      "\u001b[0;31m---------------------------------------------------------------------------\u001b[0m",
      "\u001b[0;31mImportError\u001b[0m                               Traceback (most recent call last)",
      "\u001b[0;32m<ipython-input-4-eda07f711b63>\u001b[0m in \u001b[0;36m<module>\u001b[0;34m()\u001b[0m\n\u001b[1;32m      1\u001b[0m \u001b[0;31m# Image library\u001b[0m\u001b[0;34m\u001b[0m\u001b[0;34m\u001b[0m\u001b[0m\n\u001b[0;32m----> 2\u001b[0;31m \u001b[0;32mimport\u001b[0m \u001b[0mcv2\u001b[0m\u001b[0;34m\u001b[0m\u001b[0m\n\u001b[0m\u001b[1;32m      3\u001b[0m \u001b[0;34m\u001b[0m\u001b[0m\n\u001b[1;32m      4\u001b[0m \u001b[0mcamera_port\u001b[0m \u001b[0;34m=\u001b[0m \u001b[0;36m0\u001b[0m\u001b[0;34m\u001b[0m\u001b[0m\n\u001b[1;32m      5\u001b[0m \u001b[0;34m\u001b[0m\u001b[0m\n",
      "\u001b[0;31mImportError\u001b[0m: No module named cv2"
     ]
    }
   ],
   "source": [
    "# Open Computer Vision\n",
    "import cv2\n",
    " \n",
    "camera_port = 0\n",
    "\n",
    "# CascadeClassifier,object detection\n",
    "camera = cv2.VideoCapture(camera_port)\n",
    "face_cascade = cv2.CascadeClassifier('haarcascade_default.xml')\n",
    "\n",
    "# While loop\n",
    "while(True):\n",
    "  retval, img = camera.read()\n",
    "  gray = cv2.cvtColor(img,cv2.COLOR_BGR2GRAY)\n",
    "\n",
    "# Detect face image    \n",
    "  faces = face_cascade.detectMultiScale(gray, minSize=(20,20))\n",
    "\n",
    "\n",
    "  for (x,y,w,h) in faces:\n",
    "      cv2.rectangle(img,(x,y),(x+w,y+h),(255,0,0),2)\n",
    "\n",
    "# Show the image\n",
    "  cv2.imshow('frame', img)\n",
    "\n",
    "# Break to escape from a loop, so the loop will finish when it filful the requirement of this if statement.\n",
    "  if cv2.waitKey(1) & 0xFF == ord('q'):\n",
    "    break\n",
    " "
   ]
  },
  {
   "cell_type": "code",
   "execution_count": null,
   "metadata": {
    "collapsed": true
   },
   "outputs": [],
   "source": []
  }
 ],
 "metadata": {
  "kernelspec": {
   "display_name": "Python 2",
   "language": "python",
   "name": "python2"
  },
  "language_info": {
   "codemirror_mode": {
    "name": "ipython",
    "version": 2
   },
   "file_extension": ".py",
   "mimetype": "text/x-python",
   "name": "python",
   "nbconvert_exporter": "python",
   "pygments_lexer": "ipython2",
   "version": "2.7.10"
  }
 },
 "nbformat": 4,
 "nbformat_minor": 0
}
