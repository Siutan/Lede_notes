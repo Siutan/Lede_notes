{
 "cells": [
  {
   "cell_type": "code",
   "execution_count": 6,
   "metadata": {
    "collapsed": false
   },
   "outputs": [
    {
     "name": "stdout",
     "output_type": "stream",
     "text": [
      "5\n",
      "3.4\n",
      "6.0\n"
     ]
    }
   ],
   "source": [
    "# functions.py\n",
    "# function is like a factory, you get sometimes, and it does magic, it gives you an answer.\n",
    "print len('hello')\n",
    "print abs(-3.4)\n",
    "print round(5.9)"
   ]
  },
  {
   "cell_type": "code",
   "execution_count": 5,
   "metadata": {
    "collapsed": false
   },
   "outputs": [
    {
     "name": "stdout",
     "output_type": "stream",
     "text": [
      "8\n"
     ]
    }
   ],
   "source": [
    "# write your own functions\n",
    "# the first line is called function definition\n",
    "def double(number):\n",
    "\tbigger = number * 2\n",
    "# You can only return once.\n",
    "# return 5\n",
    "\treturn bigger\n",
    "# The most important part for a function is the \"return\", it gives the magic answer.\n",
    "print double(4)"
   ]
  },
  {
   "cell_type": "code",
   "execution_count": 3,
   "metadata": {
    "collapsed": false
   },
   "outputs": [
    {
     "name": "stdout",
     "output_type": "stream",
     "text": [
      "80\n"
     ]
    }
   ],
   "source": [
    "# Don't overwrite your function\n",
    "# double = 40\n",
    "number = 40\n",
    "print double(number)"
   ]
  },
  {
   "cell_type": "code",
   "execution_count": 12,
   "metadata": {
    "collapsed": false
   },
   "outputs": [
    {
     "name": "stdout",
     "output_type": "stream",
     "text": [
      "I hope you can come to my wedding!!!\n",
      "I'm sorry you have the flu!!!\n"
     ]
    }
   ],
   "source": [
    "# sentence is a PARAMETER or a ARGUMENT\n",
    "def exclaim(sentence):\n",
    "    return sentence + \"!!!\"\n",
    "\n",
    "print exclaim(\"I hope you can come to my wedding\")\n",
    "print exclaim(\"I'm sorry you have the flu\")\n",
    "# Bad! wrong number of argumentS\n",
    "# TypeError: exclaim() takes exactly 1 argument (2 given)\n",
    "# print exclaim(\"Hello\",\"Goodbye\")\n",
    "\n",
    "# Sometimes you need more than one\n",
    "# Sometimes some are optional"
   ]
  },
  {
   "cell_type": "code",
   "execution_count": 9,
   "metadata": {
    "collapsed": false
   },
   "outputs": [
    {
     "name": "stdout",
     "output_type": "stream",
     "text": [
      "3.4958\n"
     ]
    }
   ],
   "source": [
    "print round(3.49583048595, 4)"
   ]
  },
  {
   "cell_type": "code",
   "execution_count": 10,
   "metadata": {
    "collapsed": false
   },
   "outputs": [
    {
     "ename": "NameError",
     "evalue": "name 'boat_count' is not defined",
     "output_type": "error",
     "traceback": [
      "\u001b[0;31m---------------------------------------------------------------------------\u001b[0m",
      "\u001b[0;31mNameError\u001b[0m                                 Traceback (most recent call last)",
      "\u001b[0;32m<ipython-input-10-a292308bcbb7>\u001b[0m in \u001b[0;36m<module>\u001b[0;34m()\u001b[0m\n\u001b[0;32m----> 1\u001b[0;31m \u001b[0;32mif\u001b[0m \u001b[0mboat_count\u001b[0m \u001b[0;34m>\u001b[0m \u001b[0mcar_count\u001b[0m\u001b[0;34m:\u001b[0m\u001b[0;34m\u001b[0m\u001b[0m\n\u001b[0m\u001b[1;32m      2\u001b[0m     \u001b[0;32mprint\u001b[0m \u001b[0;34m\"Larger\"\u001b[0m\u001b[0;34m\u001b[0m\u001b[0m\n\u001b[1;32m      3\u001b[0m \u001b[0;32melse\u001b[0m\u001b[0;34m:\u001b[0m\u001b[0;34m\u001b[0m\u001b[0m\n\u001b[1;32m      4\u001b[0m     \u001b[0;32mprint\u001b[0m \u001b[0;34m\"Smaller\"\u001b[0m\u001b[0;34m\u001b[0m\u001b[0m\n\u001b[1;32m      5\u001b[0m \u001b[0;34m\u001b[0m\u001b[0m\n",
      "\u001b[0;31mNameError\u001b[0m: name 'boat_count' is not defined"
     ]
    }
   ],
   "source": [
    "# D.R.Y (Don't repeat yourself)\n",
    "if boat_count > car_count:\n",
    "    print \"Larger\"\n",
    "else:\n",
    "    print \"Smaller\"\n",
    "    \n",
    "if motorcycle_count > car_count:\n",
    "    print \"Larger\"\n",
    "else:\n",
    "    print \"Smaller\"  "
   ]
  },
  {
   "cell_type": "code",
   "execution_count": 15,
   "metadata": {
    "collapsed": false
   },
   "outputs": [
    {
     "data": {
      "text/plain": [
       "'Smaller'"
      ]
     },
     "execution_count": 15,
     "metadata": {},
     "output_type": "execute_result"
    }
   ],
   "source": [
    "def size_comparison(countA, countB):\n",
    "    if countA > countB:\n",
    "        return \"Larger\"\n",
    "    else:\n",
    "        return \"Smaller\"\n",
    "\n",
    "result = size_comparison(34, 56)\n",
    "result"
   ]
  },
  {
   "cell_type": "code",
   "execution_count": 16,
   "metadata": {
    "collapsed": true
   },
   "outputs": [],
   "source": [
    "# example from earthquake data\n",
    "\n",
    "earthquake = {\n",
    " 'rms': '1.85', \n",
    " 'updated': '2014-06-11T05:22:21.596Z', \n",
    " 'type': 'earthquake', \n",
    " 'magType': 'mwp', \n",
    " 'longitude': '-136.6561', \n",
    " 'gap': '48', \n",
    " 'depth': '10', \n",
    " 'dmin': '0.811', \n",
    " 'mag': '5.7', \n",
    " 'time': '2014-06-04T11:58:58.200Z', \n",
    " 'latitude': '59.0001', \n",
    " 'place': '73km WSW of Haines, Alaska', \n",
    " 'net': 'us', \n",
    " 'nst': '', \n",
    " 'id': 'usc000rauc'}"
   ]
  },
  {
   "cell_type": "code",
   "execution_count": 21,
   "metadata": {
    "collapsed": false
   },
   "outputs": [],
   "source": [
    "happened_at = '2014-06-04T11:58:58.200Z'\n",
    "# figure out how to parse a string and turn it into a date (or a time or a datetime)\n",
    "\n",
    "# UTC\n",
    "# ISO 8601\n",
    "# https://en.wikipedia.org/?title=ISO_8601"
   ]
  },
  {
   "cell_type": "code",
   "execution_count": 25,
   "metadata": {
    "collapsed": false
   },
   "outputs": [
    {
     "data": {
      "text/plain": [
       "datetime.datetime(2015, 6, 22, 12, 23, 13, 904413)"
      ]
     },
     "execution_count": 25,
     "metadata": {},
     "output_type": "execute_result"
    }
   ],
   "source": [
    "import datetime\n",
    "# datetime has date, time and datetime\n",
    "# we have a date and a time, so we probably want datetime.dateime\n",
    "current = datetime.datetime.now()\n",
    "current"
   ]
  },
  {
   "cell_type": "code",
   "execution_count": 32,
   "metadata": {
    "collapsed": false
   },
   "outputs": [
    {
     "data": {
      "text/plain": [
       "'Jun 22'"
      ]
     },
     "execution_count": 32,
     "metadata": {},
     "output_type": "execute_result"
    }
   ],
   "source": [
    "# Jun 22\n",
    "# strftime\n",
    "current.strftime(\"%b %d\")"
   ]
  },
  {
   "cell_type": "code",
   "execution_count": 36,
   "metadata": {
    "collapsed": false
   },
   "outputs": [
    {
     "data": {
      "text/plain": [
       "'12:23 PM on Jun 22'"
      ]
     },
     "execution_count": 36,
     "metadata": {},
     "output_type": "execute_result"
    }
   ],
   "source": [
    "current.strftime(\"%I:%M %p on %b %d\")"
   ]
  },
  {
   "cell_type": "code",
   "execution_count": 41,
   "metadata": {
    "collapsed": false
   },
   "outputs": [],
   "source": [
    "# strftime turns a datetime into a string,\n",
    "# strptime turns a string into a datetime\n",
    "now_str = '12:23 PM on Jun 22'\n",
    "now_date = datetime.datetime.strptime(now_str, \"%I:%M %p on %b %d\")"
   ]
  },
  {
   "cell_type": "code",
   "execution_count": 42,
   "metadata": {
    "collapsed": false
   },
   "outputs": [
    {
     "data": {
      "text/plain": [
       "datetime.datetime(2015, 6, 22, 12, 23)"
      ]
     },
     "execution_count": 42,
     "metadata": {},
     "output_type": "execute_result"
    }
   ],
   "source": [
    "# Manually set the year\n",
    "now_date.replace(year = 2015)"
   ]
  },
  {
   "cell_type": "code",
   "execution_count": 43,
   "metadata": {
    "collapsed": false
   },
   "outputs": [
    {
     "data": {
      "text/plain": [
       "'2014-06-04T11:58:58.200Z'"
      ]
     },
     "execution_count": 43,
     "metadata": {},
     "output_type": "execute_result"
    }
   ],
   "source": [
    "happened_at"
   ]
  },
  {
   "cell_type": "code",
   "execution_count": 45,
   "metadata": {
    "collapsed": true
   },
   "outputs": [],
   "source": [
    "import dateutil.parser"
   ]
  },
  {
   "cell_type": "code",
   "execution_count": 46,
   "metadata": {
    "collapsed": false
   },
   "outputs": [
    {
     "data": {
      "text/plain": [
       "datetime.datetime(2014, 6, 4, 11, 58, 58, 200000, tzinfo=tzutc())"
      ]
     },
     "execution_count": 46,
     "metadata": {},
     "output_type": "execute_result"
    }
   ],
   "source": [
    "dateutil.parser.parse(happened_at)"
   ]
  },
  {
   "cell_type": "code",
   "execution_count": null,
   "metadata": {
    "collapsed": true
   },
   "outputs": [],
   "source": []
  }
 ],
 "metadata": {
  "kernelspec": {
   "display_name": "Python 2",
   "language": "python",
   "name": "python2"
  },
  "language_info": {
   "codemirror_mode": {
    "name": "ipython",
    "version": 2
   },
   "file_extension": ".py",
   "mimetype": "text/x-python",
   "name": "python",
   "nbconvert_exporter": "python",
   "pygments_lexer": "ipython2",
   "version": "2.7.10"
  }
 },
 "nbformat": 4,
 "nbformat_minor": 0
}
