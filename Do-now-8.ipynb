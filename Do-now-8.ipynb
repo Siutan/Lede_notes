{
 "cells": [
  {
   "cell_type": "markdown",
   "metadata": {},
   "source": [
    "1a) The code below tells you how fast you're driving. Let's write a function that does the converstion.\n",
    "\n",
    "I wrote a skeleton, now you can fill in the conversion:"
   ]
  },
  {
   "cell_type": "code",
   "execution_count": 6,
   "metadata": {
    "collapsed": false
   },
   "outputs": [
    {
     "name": "stdout",
     "output_type": "stream",
     "text": [
      "You are driving 40 in mph\n",
      "Driving 64.0 in kmh\n"
     ]
    }
   ],
   "source": [
    "def to_kmh(speed):\n",
    "    return speed * 1.6\n",
    "\n",
    "mph = 40\n",
    "print \"You are driving\", mph, \"in mph\"\n",
    "print \"Driving\", to_kmh(mph), \"in kmh\""
   ]
  },
  {
   "cell_type": "markdown",
   "metadata": {},
   "source": [
    "1b). Write a function called to_mpm that, when given miles per hours, computes the meters per minutes"
   ]
  },
  {
   "cell_type": "code",
   "execution_count": 22,
   "metadata": {
    "collapsed": false
   },
   "outputs": [
    {
     "name": "stdout",
     "output_type": "stream",
     "text": [
      "You are driving 40 in mph\n",
      "Driving 1.49 in meters per minutes\n"
     ]
    }
   ],
   "source": [
    "def to_mpm(speed):\n",
    "    return 0.0372822715 * mph\n",
    "\n",
    "mph = 40\n",
    "print \"You are driving\", mph, \"in mph\"\n",
    "print \"Driving\", round(to_mpm(mph), 2), \"in meters per minutes\""
   ]
  },
  {
   "cell_type": "markdown",
   "metadata": {},
   "source": [
    "1c). Rewrite to_mpm to use the to_kmh function.(D.R.Y!)"
   ]
  },
  {
   "cell_type": "code",
   "execution_count": 21,
   "metadata": {
    "collapsed": false
   },
   "outputs": [
    {
     "name": "stdout",
     "output_type": "stream",
     "text": [
      "You are driving 50 in mph\n",
      "Driving 80.0 in meters per minutes\n"
     ]
    }
   ],
   "source": [
    "def to_mpm(speed):\n",
    "    return to_kmh(speed) * 0.06\n",
    "\n",
    "mph = 50\n",
    "print \"You are driving\", mph, \"in mph\"\n",
    "print \"Driving\", to_kmh(mph), \"in meters per minutes\""
   ]
  },
  {
   "cell_type": "markdown",
   "metadata": {},
   "source": [
    "2). The code below won't work. Why not?"
   ]
  },
  {
   "cell_type": "code",
   "execution_count": 24,
   "metadata": {
    "collapsed": false
   },
   "outputs": [
    {
     "name": "stdout",
     "output_type": "stream",
     "text": [
      "40\n"
     ]
    }
   ],
   "source": [
    "def total(n):\n",
    "    return n * 10\n",
    "\n",
    "# Here are the street\n",
    "streets = ['10th ave', '11th street', '45th ave']\n",
    "\n",
    "# let's count them up\n",
    "# total = len(streets)\n",
    "# should be like this:\n",
    "sum = len(streets)\n",
    "\n",
    "# and add one\n",
    "# count = total + 1\n",
    "# should be like this:\n",
    "count = sum + 1\n",
    "\n",
    "# and see how many cars we have to wash\n",
    "print total(count)"
   ]
  },
  {
   "cell_type": "markdown",
   "metadata": {},
   "source": [
    "You can name a variale the same name as a function!\n",
    "TypeError: 'int' object is not callable"
   ]
  },
  {
   "cell_type": "code",
   "execution_count": null,
   "metadata": {
    "collapsed": true
   },
   "outputs": [],
   "source": []
  }
 ],
 "metadata": {
  "kernelspec": {
   "display_name": "Python 2",
   "language": "python",
   "name": "python2"
  },
  "language_info": {
   "codemirror_mode": {
    "name": "ipython",
    "version": 2
   },
   "file_extension": ".py",
   "mimetype": "text/x-python",
   "name": "python",
   "nbconvert_exporter": "python",
   "pygments_lexer": "ipython2",
   "version": "2.7.10"
  }
 },
 "nbformat": 4,
 "nbformat_minor": 0
}
