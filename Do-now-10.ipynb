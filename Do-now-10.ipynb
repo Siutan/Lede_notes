{
 "cells": [
  {
   "cell_type": "markdown",
   "metadata": {},
   "source": [
    "## Reviewing: functions, lists\n",
    "\n",
    "1) Write a function called is_even that returns whether a value is even or not."
   ]
  },
  {
   "cell_type": "code",
   "execution_count": 20,
   "metadata": {
    "collapsed": false
   },
   "outputs": [
    {
     "name": "stdout",
     "output_type": "stream",
     "text": [
      "This is an odd number.\n"
     ]
    }
   ],
   "source": [
    "def even_or_not(numbers):\n",
    "    if numbers %2 == 0:\n",
    "        return \"This is an even number.\"\n",
    "    if numbers %2 != 0:\n",
    "        return \"This is an odd number.\"\n",
    "print even_or_not(3)"
   ]
  },
  {
   "cell_type": "markdown",
   "metadata": {},
   "source": [
    "2) Add together the second and fourth members of the list below."
   ]
  },
  {
   "cell_type": "code",
   "execution_count": 5,
   "metadata": {
    "collapsed": false
   },
   "outputs": [
    {
     "data": {
      "text/plain": [
       "144.0"
      ]
     },
     "execution_count": 5,
     "metadata": {},
     "output_type": "execute_result"
    }
   ],
   "source": [
    "num = [4, 99, 32.0, 45.0, 2 ]\n",
    "num[1] + num[3]"
   ]
  },
  {
   "cell_type": "markdown",
   "metadata": {},
   "source": [
    "3) Count the number of Democrats that represent New York State in the Senate."
   ]
  },
  {
   "cell_type": "code",
   "execution_count": 21,
   "metadata": {
    "collapsed": false
   },
   "outputs": [
    {
     "name": "stdout",
     "output_type": "stream",
     "text": [
      "2\n"
     ]
    }
   ],
   "source": [
    "senators = [\n",
    "{ 'name': 'Gillibrand', 'party': 'Democrat' },\n",
    "{ 'name': 'Schumer', 'party': 'Democrat' }\n",
    "]\n",
    "senators_list = [senator['party'] for senator in senators]\n",
    "print senators_list.count('Democrat')"
   ]
  },
  {
   "cell_type": "markdown",
   "metadata": {},
   "source": [
    "4a) Using the code below, make a list of all of the Supreme Court Justices' names. "
   ]
  },
  {
   "cell_type": "code",
   "execution_count": 16,
   "metadata": {
    "collapsed": true
   },
   "outputs": [],
   "source": [
    "justices = [{ 'name': 'Scalia', 'vote': 'dissent' }, { 'name': 'Kennedy', 'vote': 'majority' }, { 'name': 'Ginsburg', 'vote': 'majority' }, { 'name': 'Kagan', 'vote': 'majority' }, { 'name': 'Roberts', 'vote': 'dissent' }, { 'name': 'Alito', 'vote': 'dissent' }, { 'name': 'Thomas', 'vote': 'dissent' }, { 'name': 'Breyer', 'vote': 'majority' }, { 'name': 'Sotomayor', 'vote': 'majority' } ]"
   ]
  },
  {
   "cell_type": "code",
   "execution_count": 17,
   "metadata": {
    "collapsed": false
   },
   "outputs": [
    {
     "data": {
      "text/plain": [
       "['Scalia',\n",
       " 'Kennedy',\n",
       " 'Ginsburg',\n",
       " 'Kagan',\n",
       " 'Roberts',\n",
       " 'Alito',\n",
       " 'Thomas',\n",
       " 'Breyer',\n",
       " 'Sotomayor']"
      ]
     },
     "execution_count": 17,
     "metadata": {},
     "output_type": "execute_result"
    }
   ],
   "source": [
    "[justice['name'] for justice in justices]"
   ]
  },
  {
   "cell_type": "markdown",
   "metadata": {},
   "source": [
    "4b) Using a single list comprehension, list only the judges who sided with the majority opinion. "
   ]
  },
  {
   "cell_type": "code",
   "execution_count": 19,
   "metadata": {
    "collapsed": false
   },
   "outputs": [
    {
     "data": {
      "text/plain": [
       "['Kennedy', 'Ginsburg', 'Kagan', 'Breyer', 'Sotomayor']"
      ]
     },
     "execution_count": 19,
     "metadata": {},
     "output_type": "execute_result"
    }
   ],
   "source": [
    "[justice['name'] for justice in justices if justice['vote'] == 'majority']"
   ]
  },
  {
   "cell_type": "code",
   "execution_count": null,
   "metadata": {
    "collapsed": true
   },
   "outputs": [],
   "source": []
  }
 ],
 "metadata": {
  "kernelspec": {
   "display_name": "Python 2",
   "language": "python",
   "name": "python2"
  },
  "language_info": {
   "codemirror_mode": {
    "name": "ipython",
    "version": 2
   },
   "file_extension": ".py",
   "mimetype": "text/x-python",
   "name": "python",
   "nbconvert_exporter": "python",
   "pygments_lexer": "ipython2",
   "version": "2.7.10"
  }
 },
 "nbformat": 4,
 "nbformat_minor": 0
}
