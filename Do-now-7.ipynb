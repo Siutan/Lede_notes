{
 "cells": [
  {
   "cell_type": "markdown",
   "metadata": {},
   "source": [
    "Reviewing Google Refine, git, counting things"
   ]
  },
  {
   "cell_type": "markdown",
   "metadata": {},
   "source": [
    "** 1a). What does Refine call searching for text in a column?**\n",
    "\n",
    "Text filter\n",
    "\n",
    "**1b). What does Refine call examining all the values that appear in a column?**\n",
    "\n",
    "facet"
   ]
  },
  {
   "cell_type": "markdown",
   "metadata": {},
   "source": [
    "2) When you add a new file into the folder you're tracking with git, it doesn't get automatically placed into the repository. What's the command to make that happen?\n",
    "\n",
    "`git add (your file name)`"
   ]
  },
  {
   "cell_type": "markdown",
   "metadata": {},
   "source": [
    "3) There are two more steps to go through with the file. One saves your changes to the repo, one sends them up to GitHub. What are they?\n",
    "\n",
    "`git commit -m \"Here is a message\"` to save your changes to the repository (like a checkpoint)\n",
    "\n",
    "`git push -u origin master` for the first time, but after that the `-u` saves it.\n",
    "just `git push` for later."
   ]
  },
  {
   "cell_type": "code",
   "execution_count": 3,
   "metadata": {
    "collapsed": false
   },
   "outputs": [],
   "source": [
    "data = [ { 'company': 'ExxonMobil', 'fine': 4500, 'date': '2011-01-02' },\n",
    "{ 'company':'BP', 'fine': 320, 'date': '2012-02-12' },\n",
    "{ 'company': 'ExxonMobil', 'fine': 7200, 'date': '2012-04-09' },\n",
    "{ 'company': 'Chevron', 'fine': 80000, 'date': '2011-01-02' } ]"
   ]
  },
  {
   "cell_type": "code",
   "execution_count": 4,
   "metadata": {
    "collapsed": false
   },
   "outputs": [
    {
     "data": {
      "text/plain": [
       "list"
      ]
     },
     "execution_count": 4,
     "metadata": {},
     "output_type": "execute_result"
    }
   ],
   "source": [
    "# What's the data type of the above?\n",
    "type(data)"
   ]
  },
  {
   "cell_type": "markdown",
   "metadata": {},
   "source": [
    "Count the number of times Chevron appears in the list. Tip: list comprehensions are your friend."
   ]
  },
  {
   "cell_type": "code",
   "execution_count": 18,
   "metadata": {
    "collapsed": false
   },
   "outputs": [],
   "source": [
    "companies = [x['company'] for x in data]"
   ]
  },
  {
   "cell_type": "code",
   "execution_count": 22,
   "metadata": {
    "collapsed": false
   },
   "outputs": [
    {
     "data": {
      "text/plain": [
       "1"
      ]
     },
     "execution_count": 22,
     "metadata": {},
     "output_type": "execute_result"
    }
   ],
   "source": [
    "# Use .count in list\n",
    "companies.count('Chevron')"
   ]
  },
  {
   "cell_type": "markdown",
   "metadata": {},
   "source": [
    "6) Sum up the fines that were from ExxonMobil. Tip: You can put conditions in a list comprehension! See the rather confusing but possibly helpful code below."
   ]
  },
  {
   "cell_type": "code",
   "execution_count": 27,
   "metadata": {
    "collapsed": false
   },
   "outputs": [],
   "source": [
    "Exxon_fine = [x['fine'] for x in data if x['company'] == 'ExxonMobil']"
   ]
  },
  {
   "cell_type": "code",
   "execution_count": 33,
   "metadata": {
    "collapsed": false
   },
   "outputs": [
    {
     "data": {
      "text/plain": [
       "11700"
      ]
     },
     "execution_count": 33,
     "metadata": {},
     "output_type": "execute_result"
    }
   ],
   "source": [
    "# Sum up elements (non-integer) in a list using sum(i for i in list)\n",
    "# sum(i for i in Exxon_fine)\n",
    "# Since Exxon_fine is a list of integers\n",
    "sum(Exxon_fine)"
   ]
  },
  {
   "cell_type": "code",
   "execution_count": null,
   "metadata": {
    "collapsed": true
   },
   "outputs": [],
   "source": []
  }
 ],
 "metadata": {
  "kernelspec": {
   "display_name": "Python 2",
   "language": "python",
   "name": "python2"
  },
  "language_info": {
   "codemirror_mode": {
    "name": "ipython",
    "version": 2
   },
   "file_extension": ".py",
   "mimetype": "text/x-python",
   "name": "python",
   "nbconvert_exporter": "python",
   "pygments_lexer": "ipython2",
   "version": "2.7.10"
  }
 },
 "nbformat": 4,
 "nbformat_minor": 0
}
